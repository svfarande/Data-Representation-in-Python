{
 "cells": [
  {
   "cell_type": "markdown",
   "metadata": {
    "toc": true
   },
   "source": [
    "<h1>Table of Contents<span class=\"tocSkip\"></span></h1>\n",
    "<div class=\"toc\"><ul class=\"toc-item\"><li><span><a href=\"#Assignment-2\" data-toc-modified-id=\"Assignment-2-1\"><span class=\"toc-item-num\">1&nbsp;&nbsp;</span>Assignment 2</a></span><ul class=\"toc-item\"><li><span><a href=\"#Step-1\" data-toc-modified-id=\"Step-1-1.1\"><span class=\"toc-item-num\">1.1&nbsp;&nbsp;</span>Step 1</a></span></li><li><span><a href=\"#Step-2\" data-toc-modified-id=\"Step-2-1.2\"><span class=\"toc-item-num\">1.2&nbsp;&nbsp;</span>Step 2</a></span></li><li><span><a href=\"#Step-3\" data-toc-modified-id=\"Step-3-1.3\"><span class=\"toc-item-num\">1.3&nbsp;&nbsp;</span>Step 3</a></span></li><li><span><a href=\"#Step-4\" data-toc-modified-id=\"Step-4-1.4\"><span class=\"toc-item-num\">1.4&nbsp;&nbsp;</span>Step 4</a></span></li></ul></li></ul></div>"
   ]
  },
  {
   "cell_type": "code",
   "execution_count": 3,
   "metadata": {
    "deletable": false,
    "editable": false,
    "nbgrader": {
     "cell_type": "code",
     "checksum": "e45d05a7e6705e7bc18fff5d5890ef58",
     "grade": false,
     "grade_id": "cell-44ca835c70f3040a",
     "locked": true,
     "schema_version": 3,
     "solution": false,
     "task": false
    }
   },
   "outputs": [
    {
     "data": {
      "application/javascript": [
       "IPython.OutputArea.prototype._should_scroll = function(lines) {\n",
       "    return false; // disable scroll bar when displaying Folium map\n",
       "}\n"
      ],
      "text/plain": [
       "<IPython.core.display.Javascript object>"
      ]
     },
     "metadata": {},
     "output_type": "display_data"
    }
   ],
   "source": [
    "%%javascript\n",
    "IPython.OutputArea.prototype._should_scroll = function(lines) {\n",
    "    return false; // disable scroll bar when displaying Folium map\n",
    "}"
   ]
  },
  {
   "cell_type": "markdown",
   "metadata": {
    "deletable": false,
    "editable": false,
    "nbgrader": {
     "cell_type": "markdown",
     "checksum": "ae6111747a75bdb5c5393f44d1045577",
     "grade": false,
     "grade_id": "cell-c676d66924c74eea",
     "locked": true,
     "schema_version": 3,
     "solution": false,
     "task": false
    },
    "tags": []
   },
   "source": [
    "# Assignment 2\n",
    "\n",
    "Before working on this assignment please read these instructions fully. In the submission area, you will notice that you can click the link to **Preview the Grading** for each step of the assignment. This is the criteria that will be used for peer grading. Please familiarize yourself with the criteria before beginning the assignment.\n",
    "\n",
    "The data for this assignment comes from a subset of The National Centers for Environmental Information (NCEI) [Global Historical Climatology Network daily (GHCNd)](https://www.ncei.noaa.gov/products/land-based-station/global-historical-climatology-network-daily) (GHCN-Daily). The GHCN-Daily is comprised of daily climate records from thousands of land surface stations across the globe - it's a wonderfully large dataset to play with! In particular, you will be asked to use data from the Ann Arbor Michigan location (my home!). and this is stored in the file: `assets/fb441e62df2d58994928907a91895ec62c2c42e6cd075c2700843b89.csv`\n",
    "\n",
    "Each row in this datafile corresponds to a single observation from a weather station, and has the following variables:\n",
    "* **id** : station identification code\n",
    "* **date** : date in YYYY-MM-DD format (e.g. 2012-01-24 = January 24, 2012)\n",
    "* **element** : indicator of element type\n",
    "    * TMAX : Maximum temperature (tenths of degrees C)\n",
    "    * TMIN : Minimum temperature (tenths of degrees C)\n",
    "* **value** : data value for element (tenths of degrees C)\n",
    "\n",
    "For this assignment, you must:\n",
    "\n",
    "1. Read the documentation and familiarize yourself with the dataset, then write a python notebook which plots line graphs of the record high and record low temperatures by day of the year over the period 2005-2014. The area between the record high and record low temperatures for each day should be shaded.\n",
    "2. Overlay a scatter of the 2015 data for any points (highs and lows) for which the ten year record (2005-2014) record high or record low was broken in 2015. (Based on the graph, do you think extreme weather is getting more frequent in 2015?)\n",
    "3. Watch out for leap days (i.e. February 29th), it is reasonable to remove these points from the dataset for the purpose of this visualization.\n",
    "4. Make the visual nice! Leverage principles from the first module in this course when developing your solution. Consider issues such as legends, labels, and chart junk.\n",
    "\n",
    "I've written some steps I think would be good to go through, but there are other ways to solve this assignment so feel free to explore the pandas library! What I really want to see is an image that looks like this sketch I drew at my desk:\n",
    "\n",
    "![](assets/chris_sketch.png)"
   ]
  },
  {
   "cell_type": "code",
   "execution_count": 1,
   "metadata": {
    "deletable": false,
    "editable": false,
    "nbgrader": {
     "cell_type": "code",
     "checksum": "d8d9355fc55599cd2ad34fdd140baac1",
     "grade": false,
     "grade_id": "cell-f01cb0e8645e7c07",
     "locked": true,
     "schema_version": 3,
     "solution": false,
     "task": false
    }
   },
   "outputs": [
    {
     "data": {
      "text/html": [
       "<div style=\"width:100%;\"><div style=\"position:relative;width:100%;height:0;padding-bottom:60%;\"><span style=\"color:#565656\">Make this Notebook Trusted to load map: File -> Trust Notebook</span><iframe srcdoc=\"&lt;!DOCTYPE html&gt;\n",
       "&lt;html&gt;\n",
       "&lt;head&gt;\n",
       "    \n",
       "    &lt;meta http-equiv=&quot;content-type&quot; content=&quot;text/html; charset=UTF-8&quot; /&gt;\n",
       "    \n",
       "        &lt;script&gt;\n",
       "            L_NO_TOUCH = false;\n",
       "            L_DISABLE_3D = false;\n",
       "        &lt;/script&gt;\n",
       "    \n",
       "    &lt;style&gt;html, body {width: 100%;height: 100%;margin: 0;padding: 0;}&lt;/style&gt;\n",
       "    &lt;style&gt;#map {position:absolute;top:0;bottom:0;right:0;left:0;}&lt;/style&gt;\n",
       "    &lt;script src=&quot;https://cdn.jsdelivr.net/npm/leaflet@1.6.0/dist/leaflet.js&quot;&gt;&lt;/script&gt;\n",
       "    &lt;script src=&quot;https://code.jquery.com/jquery-1.12.4.min.js&quot;&gt;&lt;/script&gt;\n",
       "    &lt;script src=&quot;https://maxcdn.bootstrapcdn.com/bootstrap/3.2.0/js/bootstrap.min.js&quot;&gt;&lt;/script&gt;\n",
       "    &lt;script src=&quot;https://cdnjs.cloudflare.com/ajax/libs/Leaflet.awesome-markers/2.0.2/leaflet.awesome-markers.js&quot;&gt;&lt;/script&gt;\n",
       "    &lt;link rel=&quot;stylesheet&quot; href=&quot;https://cdn.jsdelivr.net/npm/leaflet@1.6.0/dist/leaflet.css&quot;/&gt;\n",
       "    &lt;link rel=&quot;stylesheet&quot; href=&quot;https://maxcdn.bootstrapcdn.com/bootstrap/3.2.0/css/bootstrap.min.css&quot;/&gt;\n",
       "    &lt;link rel=&quot;stylesheet&quot; href=&quot;https://maxcdn.bootstrapcdn.com/bootstrap/3.2.0/css/bootstrap-theme.min.css&quot;/&gt;\n",
       "    &lt;link rel=&quot;stylesheet&quot; href=&quot;https://maxcdn.bootstrapcdn.com/font-awesome/4.6.3/css/font-awesome.min.css&quot;/&gt;\n",
       "    &lt;link rel=&quot;stylesheet&quot; href=&quot;https://cdnjs.cloudflare.com/ajax/libs/Leaflet.awesome-markers/2.0.2/leaflet.awesome-markers.css&quot;/&gt;\n",
       "    &lt;link rel=&quot;stylesheet&quot; href=&quot;https://cdn.jsdelivr.net/gh/python-visualization/folium/folium/templates/leaflet.awesome.rotate.min.css&quot;/&gt;\n",
       "    \n",
       "            &lt;meta name=&quot;viewport&quot; content=&quot;width=device-width,\n",
       "                initial-scale=1.0, maximum-scale=1.0, user-scalable=no&quot; /&gt;\n",
       "            &lt;style&gt;\n",
       "                #map_1d13ef595565601297c58c2774167092 {\n",
       "                    position: relative;\n",
       "                    width: 100.0%;\n",
       "                    height: 500.0px;\n",
       "                    left: 0.0%;\n",
       "                    top: 0.0%;\n",
       "                }\n",
       "            &lt;/style&gt;\n",
       "        \n",
       "&lt;/head&gt;\n",
       "&lt;body&gt;\n",
       "    \n",
       "    \n",
       "            &lt;div class=&quot;folium-map&quot; id=&quot;map_1d13ef595565601297c58c2774167092&quot; &gt;&lt;/div&gt;\n",
       "        \n",
       "&lt;/body&gt;\n",
       "&lt;script&gt;\n",
       "    \n",
       "    \n",
       "            var map_1d13ef595565601297c58c2774167092 = L.map(\n",
       "                &quot;map_1d13ef595565601297c58c2774167092&quot;,\n",
       "                {\n",
       "                    center: [41.9164, -84.0158],\n",
       "                    crs: L.CRS.EPSG3857,\n",
       "                    zoom: 9,\n",
       "                    zoomControl: true,\n",
       "                    preferCanvas: false,\n",
       "                }\n",
       "            );\n",
       "\n",
       "            \n",
       "\n",
       "        \n",
       "    \n",
       "            var tile_layer_df092492cdb86729f41038627cd03177 = L.tileLayer(\n",
       "                &quot;https://{s}.tile.openstreetmap.org/{z}/{x}/{y}.png&quot;,\n",
       "                {&quot;attribution&quot;: &quot;Data by \\u0026copy; \\u003ca href=\\&quot;http://openstreetmap.org\\&quot;\\u003eOpenStreetMap\\u003c/a\\u003e, under \\u003ca href=\\&quot;http://www.openstreetmap.org/copyright\\&quot;\\u003eODbL\\u003c/a\\u003e.&quot;, &quot;detectRetina&quot;: false, &quot;maxNativeZoom&quot;: 18, &quot;maxZoom&quot;: 18, &quot;minZoom&quot;: 0, &quot;noWrap&quot;: false, &quot;opacity&quot;: 1, &quot;subdomains&quot;: &quot;abc&quot;, &quot;tms&quot;: false}\n",
       "            ).addTo(map_1d13ef595565601297c58c2774167092);\n",
       "        \n",
       "    \n",
       "            var marker_95392390e0803a27af70048a7143f208 = L.marker(\n",
       "                [41.9164, -84.0158],\n",
       "                {}\n",
       "            ).addTo(map_1d13ef595565601297c58c2774167092);\n",
       "        \n",
       "    \n",
       "            var marker_4af5b2f6b9bb8a1ca57187e91c3eb34f = L.marker(\n",
       "                [42.2875, -83.7611],\n",
       "                {}\n",
       "            ).addTo(map_1d13ef595565601297c58c2774167092);\n",
       "        \n",
       "    \n",
       "            var marker_42797e75455af1ed6c153434d8f571d5 = L.marker(\n",
       "                [42.2417, -83.6933],\n",
       "                {}\n",
       "            ).addTo(map_1d13ef595565601297c58c2774167092);\n",
       "        \n",
       "    \n",
       "            var marker_4dce441eb0bda309d2b242a611538ca7 = L.marker(\n",
       "                [42.2947, -83.7108],\n",
       "                {}\n",
       "            ).addTo(map_1d13ef595565601297c58c2774167092);\n",
       "        \n",
       "    \n",
       "            var marker_bd1f1a9eebdde3b21175c100155847da = L.marker(\n",
       "                [41.84, -83.8608],\n",
       "                {}\n",
       "            ).addTo(map_1d13ef595565601297c58c2774167092);\n",
       "        \n",
       "    \n",
       "            var marker_8460d6b63999b4a5aaa8eef06b7423bf = L.marker(\n",
       "                [42.0636, -83.4358],\n",
       "                {}\n",
       "            ).addTo(map_1d13ef595565601297c58c2774167092);\n",
       "        \n",
       "    \n",
       "            var marker_f08124b3018627f09a31c09e9ffa65ba = L.marker(\n",
       "                [42.3264, -84.0133],\n",
       "                {}\n",
       "            ).addTo(map_1d13ef595565601297c58c2774167092);\n",
       "        \n",
       "    \n",
       "            var marker_e3edbd29ffb2bb31de7ca939271df475 = L.marker(\n",
       "                [41.9553, -83.6489],\n",
       "                {}\n",
       "            ).addTo(map_1d13ef595565601297c58c2774167092);\n",
       "        \n",
       "    \n",
       "            var marker_54dbb8ef0a42da7e209c87e97ffc043f = L.marker(\n",
       "                [42.4344, -83.9858],\n",
       "                {}\n",
       "            ).addTo(map_1d13ef595565601297c58c2774167092);\n",
       "        \n",
       "    \n",
       "            var marker_075bbbaca703ac85c4f3320349fa7043 = L.marker(\n",
       "                [42.1508, -84.0236],\n",
       "                {}\n",
       "            ).addTo(map_1d13ef595565601297c58c2774167092);\n",
       "        \n",
       "    \n",
       "            var marker_7213bee83d6c8cffb9b3c1a03ed30948 = L.marker(\n",
       "                [42.0664, -83.6186],\n",
       "                {}\n",
       "            ).addTo(map_1d13ef595565601297c58c2774167092);\n",
       "        \n",
       "    \n",
       "            var marker_1023627e9c9b7aa2f67978908731f79d = L.marker(\n",
       "                [42.0811, -83.6769],\n",
       "                {}\n",
       "            ).addTo(map_1d13ef595565601297c58c2774167092);\n",
       "        \n",
       "    \n",
       "            var marker_b9490c6e8ed5fda45295a7b4d0e72d2d = L.marker(\n",
       "                [41.9069, -83.4158],\n",
       "                {}\n",
       "            ).addTo(map_1d13ef595565601297c58c2774167092);\n",
       "        \n",
       "    \n",
       "            var marker_adc42cc9b33fc564b4a3c6be1f95dc5c = L.marker(\n",
       "                [41.9497, -83.28],\n",
       "                {}\n",
       "            ).addTo(map_1d13ef595565601297c58c2774167092);\n",
       "        \n",
       "    \n",
       "            var marker_32331fc4d5dfb79246e1a24066eba926 = L.marker(\n",
       "                [42.1611, -83.7819],\n",
       "                {}\n",
       "            ).addTo(map_1d13ef595565601297c58c2774167092);\n",
       "        \n",
       "    \n",
       "            var marker_3ded9281f474617be8f195f703d1c48f = L.marker(\n",
       "                [42.1236, -83.82],\n",
       "                {}\n",
       "            ).addTo(map_1d13ef595565601297c58c2774167092);\n",
       "        \n",
       "    \n",
       "            var marker_8f566825db4bfdae77e747231bd62225 = L.marker(\n",
       "                [41.8069, -83.5831],\n",
       "                {}\n",
       "            ).addTo(map_1d13ef595565601297c58c2774167092);\n",
       "        \n",
       "    \n",
       "            var marker_89ee57c1dd1b4eebc57370229f989c56 = L.marker(\n",
       "                [42.0028, -83.9336],\n",
       "                {}\n",
       "            ).addTo(map_1d13ef595565601297c58c2774167092);\n",
       "        \n",
       "    \n",
       "            var marker_6f55e9015c02c8e763251b8b6a2913c4 = L.marker(\n",
       "                [42.0283, -84.1108],\n",
       "                {}\n",
       "            ).addTo(map_1d13ef595565601297c58c2774167092);\n",
       "        \n",
       "    \n",
       "            var marker_548acd7e93af424aae7fe18696913a81 = L.marker(\n",
       "                [42.4356, -83.7831],\n",
       "                {}\n",
       "            ).addTo(map_1d13ef595565601297c58c2774167092);\n",
       "        \n",
       "    \n",
       "            var marker_b88b0fb4d2dc78ee3064097fac2e9657 = L.marker(\n",
       "                [41.5631, -83.4764],\n",
       "                {}\n",
       "            ).addTo(map_1d13ef595565601297c58c2774167092);\n",
       "        \n",
       "    \n",
       "            var marker_6f4f1473334e16df17dbeb6d63d46e34 = L.marker(\n",
       "                [42.2667, -84.4667],\n",
       "                {}\n",
       "            ).addTo(map_1d13ef595565601297c58c2774167092);\n",
       "        \n",
       "    \n",
       "            var marker_a6bc7d9ffaecafff90e7c94d4cf3bdf0 = L.marker(\n",
       "                [42.2333, -83.5333],\n",
       "                {}\n",
       "            ).addTo(map_1d13ef595565601297c58c2774167092);\n",
       "        \n",
       "    \n",
       "            var marker_f7085b18c52197ec45fd840dcfdba686 = L.marker(\n",
       "                [42.2228, -83.7444],\n",
       "                {}\n",
       "            ).addTo(map_1d13ef595565601297c58c2774167092);\n",
       "        \n",
       "&lt;/script&gt;\n",
       "&lt;/html&gt;\" style=\"position:absolute;width:100%;height:100%;left:0;top:0;border:none !important;\" allowfullscreen webkitallowfullscreen mozallowfullscreen></iframe></div></div>"
      ],
      "text/plain": [
       "<folium.folium.Map at 0x7ff5280b8280>"
      ]
     },
     "metadata": {},
     "output_type": "display_data"
    }
   ],
   "source": [
    "#  I'll be using the folium package to render the data into a map in Jupyter.\n",
    "\n",
    "import folium\n",
    "import pandas as pd\n",
    "\n",
    "# get the location information for this dataset\n",
    "df = pd.read_csv('assets/BinSize_d400.csv')\n",
    "station_locations_by_hash = df[df['hash'] == 'fb441e62df2d58994928907a91895ec62c2c42e6cd075c2700843b89']\n",
    "\n",
    "# get longitude and lattitude to plot\n",
    "lons = station_locations_by_hash['LONGITUDE'].tolist()\n",
    "lats = station_locations_by_hash['LATITUDE'].tolist()\n",
    "\n",
    "# plot on a beautiful folium map\n",
    "my_map = folium.Map(location = [lats[0], lons[0]], height = 500,  zoom_start = 9)\n",
    "for lat, lon in zip(lats, lons):\n",
    "    folium.Marker([lat, lon]).add_to(my_map)\n",
    "\n",
    "# render map in Jupyter\n",
    "display(my_map)"
   ]
  },
  {
   "cell_type": "markdown",
   "metadata": {
    "deletable": false,
    "editable": false,
    "nbgrader": {
     "cell_type": "markdown",
     "checksum": "d2ee9d3c5ac53844b3ed48aa157f6204",
     "grade": false,
     "grade_id": "cell-695e4689bc5509b6",
     "locked": true,
     "schema_version": 3,
     "solution": false,
     "task": false
    }
   },
   "source": [
    "## Step 1\n",
    "Load the dataset and transform the data into Celsius (refer to documentation) then extract all of the rows which have minimum or maximum temperatures.\n",
    "\n",
    "__hint: when I did this step I had two DataFrame objects, each with ~80,000 entries in it__"
   ]
  },
  {
   "cell_type": "code",
   "execution_count": 2,
   "metadata": {
    "deletable": false,
    "editable": false,
    "nbgrader": {
     "cell_type": "code",
     "checksum": "dbfe393a2232a653ebbd81e518237a83",
     "grade": false,
     "grade_id": "cell-f508059dd84e9b7c",
     "locked": true,
     "schema_version": 3,
     "solution": false,
     "task": false
    }
   },
   "outputs": [
    {
     "data": {
      "text/html": [
       "<div>\n",
       "<style scoped>\n",
       "    .dataframe tbody tr th:only-of-type {\n",
       "        vertical-align: middle;\n",
       "    }\n",
       "\n",
       "    .dataframe tbody tr th {\n",
       "        vertical-align: top;\n",
       "    }\n",
       "\n",
       "    .dataframe thead th {\n",
       "        text-align: right;\n",
       "    }\n",
       "</style>\n",
       "<table border=\"1\" class=\"dataframe\">\n",
       "  <thead>\n",
       "    <tr style=\"text-align: right;\">\n",
       "      <th></th>\n",
       "      <th>ID</th>\n",
       "      <th>Date</th>\n",
       "      <th>Element</th>\n",
       "      <th>Data_Value</th>\n",
       "    </tr>\n",
       "  </thead>\n",
       "  <tbody>\n",
       "    <tr>\n",
       "      <th>0</th>\n",
       "      <td>USW00094889</td>\n",
       "      <td>2014-11-12</td>\n",
       "      <td>TMAX</td>\n",
       "      <td>22</td>\n",
       "    </tr>\n",
       "    <tr>\n",
       "      <th>1</th>\n",
       "      <td>USC00208972</td>\n",
       "      <td>2009-04-29</td>\n",
       "      <td>TMIN</td>\n",
       "      <td>56</td>\n",
       "    </tr>\n",
       "    <tr>\n",
       "      <th>2</th>\n",
       "      <td>USC00200032</td>\n",
       "      <td>2008-05-26</td>\n",
       "      <td>TMAX</td>\n",
       "      <td>278</td>\n",
       "    </tr>\n",
       "    <tr>\n",
       "      <th>3</th>\n",
       "      <td>USC00205563</td>\n",
       "      <td>2005-11-11</td>\n",
       "      <td>TMAX</td>\n",
       "      <td>139</td>\n",
       "    </tr>\n",
       "    <tr>\n",
       "      <th>4</th>\n",
       "      <td>USC00200230</td>\n",
       "      <td>2014-02-27</td>\n",
       "      <td>TMAX</td>\n",
       "      <td>-106</td>\n",
       "    </tr>\n",
       "  </tbody>\n",
       "</table>\n",
       "</div>"
      ],
      "text/plain": [
       "            ID        Date Element  Data_Value\n",
       "0  USW00094889  2014-11-12    TMAX          22\n",
       "1  USC00208972  2009-04-29    TMIN          56\n",
       "2  USC00200032  2008-05-26    TMAX         278\n",
       "3  USC00205563  2005-11-11    TMAX         139\n",
       "4  USC00200230  2014-02-27    TMAX        -106"
      ]
     },
     "execution_count": 2,
     "metadata": {},
     "output_type": "execute_result"
    }
   ],
   "source": [
    "import pandas as pd\n",
    "df = pd.read_csv('assets/fb441e62df2d58994928907a91895ec62c2c42e6cd075c2700843b89.csv')\n",
    "df.head()"
   ]
  },
  {
   "cell_type": "code",
   "execution_count": null,
   "metadata": {},
   "outputs": [],
   "source": [
    "# In this code cell, transform the Data_Value column"
   ]
  },
  {
   "cell_type": "markdown",
   "metadata": {
    "deletable": false,
    "editable": false,
    "nbgrader": {
     "cell_type": "markdown",
     "checksum": "76f2478088402765c38ed2b9db771916",
     "grade": false,
     "grade_id": "cell-c5718635688cb408",
     "locked": true,
     "schema_version": 3,
     "solution": false,
     "task": false
    }
   },
   "source": [
    "## Step 2\n",
    "In order to visualize the data we would plot the min and max data for each day of the year between the years 2005 and 2014 across all weather stations. But we also need to find out when the min or max temperature in 2015 falls below the min or rises above the max for the previous decade.\n",
    "\n",
    "If you did step 1 you have two Series objects with min and max times for the years 2005 through 2015. You can use Pandas `groupby` to create max and min temperature Series objects across all weather stations for each day of these years, and you can deal with the records for February 29 (the leap year) by dropping them.\n",
    "\n",
    "__hint: when I finished this step, I had two DataFrame objects, each with exactly 4015 observations in them__"
   ]
  },
  {
   "cell_type": "code",
   "execution_count": null,
   "metadata": {},
   "outputs": [],
   "source": [
    "# create a DataFrame of maximum temperature by date\n",
    "\n",
    "# create a DataFrame of minimum temperatures by date"
   ]
  },
  {
   "cell_type": "markdown",
   "metadata": {
    "deletable": false,
    "editable": false,
    "nbgrader": {
     "cell_type": "markdown",
     "checksum": "0edac9c92f1b79eb9b21f302a3259c5e",
     "grade": false,
     "grade_id": "cell-d3a1a2647a47fe31",
     "locked": true,
     "schema_version": 3,
     "solution": false,
     "task": false
    }
   },
   "source": [
    "## Step 3\n",
    "Now that you have grouped the daily max and min temperatures for each day of the years 2005 through 2015, you can separate out the data for 2015. Then you can use the Pandas `groupby` function to find the max and min of the temperature data for each __day of the year__ for the 2005-2014 data.\n",
    "\n",
    "__hint: at the end of this step I had two DataFrames, one of maximum and the other of minimum values, which each had 365 observations in them. I also had another pair of similar DataFrames but only for the year 2015.__"
   ]
  },
  {
   "cell_type": "code",
   "execution_count": null,
   "metadata": {},
   "outputs": [],
   "source": [
    "# calculate the minimum and maximum values for the day of the year for 2005 through 2014\n",
    "\n",
    "# calculate the minimum and maximum values for the years 2015"
   ]
  },
  {
   "cell_type": "markdown",
   "metadata": {
    "deletable": false,
    "editable": false,
    "nbgrader": {
     "cell_type": "markdown",
     "checksum": "d7de066a05b833f7ded9353ee2215ba8",
     "grade": false,
     "grade_id": "cell-25711f5fdbe49515",
     "locked": true,
     "schema_version": 3,
     "solution": false,
     "task": false
    }
   },
   "source": [
    "## Step 4\n",
    "Now it's time to plot! You need to explore matplotlib in order to plot line graphs of the min and max temperatures for the years 2005 through 2014 and to scatter plot __only__ the daily 2015 temperatures that exceeded those values."
   ]
  },
  {
   "cell_type": "code",
   "execution_count": 43,
   "metadata": {},
   "outputs": [
    {
     "data": {
      "image/png": "[encoded data removed]",
      "text/plain": [
       "<Figure size 864x432 with 1 Axes>"
      ]
     },
     "metadata": {
      "needs_background": "light"
     },
     "output_type": "display_data"
    }
   ],
   "source": [
    "import matplotlib.pyplot as plt\n",
    "from calendar import month_abbr\n",
    "import matplotlib.dates as mdates\n",
    "\n",
    "# put your plotting code here!\n",
    "import pandas as pd\n",
    "import numpy as np\n",
    "\n",
    "# Create a dataframe from the given data (you might load from CSV or another source)\n",
    "# Here's a subset for brevity:\n",
    "ddf = pd.read_csv('assets/fb441e62df2d58994928907a91895ec62c2c42e6cd075c2700843b89.csv')\n",
    "df['Date'] = pd.to_datetime(df['Date'])\n",
    "\n",
    "# Filter data for 2005-2014, and remove leap days\n",
    "df_2005_2014 = df[(df['Date'].dt.year >= 2005) & (df['Date'].dt.year <= 2014)]\n",
    "df_2005_2014 = df_2005_2014[~((df_2005_2014['Date'].dt.month == 2) & (df_2005_2014['Date'].dt.day == 29))]\n",
    "\n",
    "# Find record highs and lows for each day during 2005-2014\n",
    "df_2005_2014['DayOfYear'] = df_2005_2014['Date'].dt.strftime('%m-%d')\n",
    "record_highs = df_2005_2014[df_2005_2014['Element'] == 'TMAX'].groupby('DayOfYear')['Data_Value'].max()\n",
    "record_lows = df_2005_2014[df_2005_2014['Element'] == 'TMIN'].groupby('DayOfYear')['Data_Value'].min()\n",
    "\n",
    "# Filter data for 2015 and determine days that broke the previous record\n",
    "df_2015 = df[df['Date'].dt.year == 2015]\n",
    "df_2015['DayOfYear'] = df_2015['Date'].dt.strftime('%m-%d')\n",
    "highs_2015 = df_2015[df_2015['Element'] == 'TMAX'].groupby('DayOfYear')['Data_Value'].max()\n",
    "lows_2015 = df_2015[df_2015['Element'] == 'TMIN'].groupby('DayOfYear')['Data_Value'].min()\n",
    "\n",
    "# Identify days where 2015 broke the record\n",
    "broken_highs_2015 = highs_2015[highs_2015 > record_highs]\n",
    "broken_lows_2015 = lows_2015[lows_2015 < record_lows]\n",
    "# Identify where 2015 broke the 10-year record\n",
    "\n",
    "plt.figure(figsize=(12, 6))\n",
    "plt.plot(record_highs.values, color='tomato', label='2005-2014 Record Highs')\n",
    "plt.plot(record_lows.values, color='skyblue', label='2005-2014 Record Lows')\n",
    "plt.scatter(broken_highs_2015.index, broken_highs_2015.values, color='red', s=50, label='2015 Highs that Broke Record')\n",
    "plt.scatter(broken_lows_2015.index, broken_lows_2015.values, color='blue', s=50, label='2015 Lows that Broke Record')\n",
    "plt.fill_between(range(len(record_highs)), record_highs.values, record_lows.values, color='grey', alpha=0.2)\n",
    "\n",
    "# Formatting the x-axis to display months\n",
    "months = mdates.MonthLocator()  # every month\n",
    "months_fmt = mdates.DateFormatter('%b')\n",
    "\n",
    "ax = plt.gca()  # get current axis\n",
    "ax.xaxis.set_major_locator(months)\n",
    "ax.xaxis.set_major_formatter(months_fmt)\n",
    "\n",
    "plt.title('Record Temperatures (2005-2014) vs. 2015')\n",
    "plt.xlabel('Month of the Year')\n",
    "plt.ylabel('Temperature (tenths of °C)')\n",
    "plt.legend()\n",
    "plt.tight_layout()\n",
    "for spine in plt.gca().spines.values():\n",
    "    spine.set_visible(False)\n",
    "plt.savefig(\"temperature_record.png\", dpi=300, bbox_inches=\"tight\")\n",
    "plt.show()"
   ]
  },
  {
   "cell_type": "code",
   "execution_count": null,
   "metadata": {},
   "outputs": [],
   "source": []
  },
  {
   "cell_type": "code",
   "execution_count": null,
   "metadata": {},
   "outputs": [],
   "source": []
  }
 ],
 "metadata": {
  "coursera": {
   "schema_names": [
    "mooc_adswpy_v1_assignment2"
   ]
  },
  "kernelspec": {
   "display_name": "Python 3 (ipykernel)",
   "language": "python",
   "name": "python3"
  },
  "language_info": {
   "codemirror_mode": {
    "name": "ipython",
    "version": 3
   },
   "file_extension": ".py",
   "mimetype": "text/x-python",
   "name": "python",
   "nbconvert_exporter": "python",
   "pygments_lexer": "ipython3",
   "version": "3.7.11"
  },
  "toc": {
   "base_numbering": 1,
   "nav_menu": {},
   "number_sections": true,
   "sideBar": true,
   "skip_h1_title": false,
   "title_cell": "Table of Contents",
   "title_sidebar": "Contents",
   "toc_cell": true,
   "toc_position": {},
   "toc_section_display": true,
   "toc_window_display": false
  }
 },
 "nbformat": 4,
 "nbformat_minor": 4
}
